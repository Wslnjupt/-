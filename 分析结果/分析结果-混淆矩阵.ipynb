{
 "cells": [
  {
   "cell_type": "code",
   "execution_count": 1,
   "metadata": {
    "collapsed": true
   },
   "outputs": [],
   "source": [
    "import torch\n",
    "import torchvision\n",
    "import torchvision.transforms as transforms\n",
    "\n",
    "import torch.nn as nn\n",
    "import torch.optim as optim\n",
    "import torch.nn.functional as F"
   ]
  },
  {
   "cell_type": "code",
   "execution_count": 3,
   "outputs": [
    {
     "name": "stdout",
     "output_type": "stream",
     "text": [
      "epoch=   {0} train_loss =  {tensor(1376.6747, grad_fn=<AddBackward0>)} correct_% =  {tensor(0.1843)}\n",
      "epoch=   {1} train_loss =  {tensor(970.8980, grad_fn=<AddBackward0>)} correct_% =  {tensor(0.4587)}\n",
      "epoch=   {2} train_loss =  {tensor(534.2161, grad_fn=<AddBackward0>)} correct_% =  {tensor(0.6592)}\n",
      "epoch=   {3} train_loss =  {tensor(469.8138, grad_fn=<AddBackward0>)} correct_% =  {tensor(0.7006)}\n",
      "epoch=   {4} train_loss =  {tensor(430.7572, grad_fn=<AddBackward0>)} correct_% =  {tensor(0.7258)}\n",
      "epoch=   {5} train_loss =  {tensor(401.1327, grad_fn=<AddBackward0>)} correct_% =  {tensor(0.7460)}\n",
      "epoch=   {6} train_loss =  {tensor(378.2709, grad_fn=<AddBackward0>)} correct_% =  {tensor(0.7616)}\n",
      "epoch=   {7} train_loss =  {tensor(359.5994, grad_fn=<AddBackward0>)} correct_% =  {tensor(0.7749)}\n",
      "epoch=   {8} train_loss =  {tensor(343.3848, grad_fn=<AddBackward0>)} correct_% =  {tensor(0.7852)}\n",
      "epoch=   {9} train_loss =  {tensor(329.3903, grad_fn=<AddBackward0>)} correct_% =  {tensor(0.7946)}\n"
     ]
    }
   ],
   "source": [
    "train_set = torchvision.datasets.FashionMNIST(root = r\"C:\\Users\\Administrator\\Desktop\\机器学习，深度学习参考教材\\deeplizard--pytorch神经网络入门\\准备数据\\data_FashionMNIST\",\n",
    "                                              train= True,download = True,transform = transforms.Compose([transforms.ToTensor()]))\n",
    "\n",
    "train_loader = torch.utils.data.DataLoader(train_set,batch_size = 100)\n",
    "\n",
    "\n",
    "\n",
    "torch.set_grad_enabled(True)\n",
    "\n",
    "class Network(nn.Module):\n",
    "\n",
    "    def __init__(self):\n",
    "        super(Network,self).__init__()\n",
    "\n",
    "        self.conv1 = nn.Conv2d(in_channels = 1,out_channels=6,kernel_size = 5)\n",
    "        self.conv2 = nn.Conv2d(in_channels=6,out_channels = 12,kernel_size  =5)\n",
    "\n",
    "\n",
    "\n",
    "        self.fc1 = nn.Linear(in_features=12*4*4,out_features=120)\n",
    "        self.fc2 = nn.Linear(in_features=120,out_features=60)\n",
    "        self.fc3 = nn.Linear(in_features=60,out_features=10)\n",
    "\n",
    "\n",
    "    def forward(self,t):\n",
    "\n",
    "        t = self.conv1(t)\n",
    "        t = F.relu(t)\n",
    "        t  = F.max_pool2d(t,kernel_size= 2,stride = 2)\n",
    "\n",
    "\n",
    "        t = self.conv2(t)\n",
    "        t = F.relu(t)\n",
    "        t = F.max_pool2d(t,kernel_size = 2,stride = 2)\n",
    "\n",
    "        t = self.fc1(t.reshape(-1,12*4*4))\n",
    "        t = F.relu(t)\n",
    "\n",
    "        t = self.fc2(t)\n",
    "        t = F.relu(t)\n",
    "\n",
    "        t = self.fc3(t)\n",
    "\n",
    "        return t\n",
    "\n",
    "network = Network()\n",
    "updater = optim.SGD(network.parameters(),lr = 0.01)\n",
    "# loss = F.cross_entropy(preds,labels)\n",
    "\n",
    "def get_num_correct(preds,labels):\n",
    "    return  (preds.argmax(dim = 1) == labels).sum()\n",
    "\n",
    "\n",
    "\n",
    "for epoch  in range(10):\n",
    "    train_loss = 0\n",
    "    train_num_correct = 0\n",
    "    for images,labels in train_loader:\n",
    "\n",
    "        preds = network(images)\n",
    "        train_num_correct += get_num_correct(preds,labels)\n",
    "        loss = F.cross_entropy(preds,labels)\n",
    "        train_loss += loss\n",
    "\n",
    "        updater.zero_grad()\n",
    "        loss.backward()\n",
    "\n",
    "\n",
    "        updater.step()\n",
    "    print(\"epoch=  \",{epoch},\"train_loss = \",{train_loss},\"correct_% = \",{train_num_correct/len(train_set)})\n",
    "\n"
   ],
   "metadata": {
    "collapsed": false
   }
  },
  {
   "cell_type": "code",
   "execution_count": 5,
   "outputs": [
    {
     "name": "stdout",
     "output_type": "stream",
     "text": [
      "train_preds——shape-----(6000,)????? torch.Size([60000])\n",
      "tensor([[4879,   67,  252,  528,   36,   10,  139,    0,   88,    1],\n",
      "        [  30, 5572,   48,  305,   34,    1,    6,    0,    3,    1],\n",
      "        [  44,   12, 4666,   77,  850,   11,  213,    0,  127,    0],\n",
      "        [ 182,  108,  152, 5293,  163,    6,   68,    0,   28,    0],\n",
      "        [  10,   20, 1027,  340, 4344,    3,  190,    0,   65,    1],\n",
      "        [   1,    0,    1,    4,    0, 5542,    0,  289,   33,  130],\n",
      "        [1304,   25, 1998,  418,  759,    2, 1330,    0,  164,    0],\n",
      "        [   0,    0,    0,    0,    0,  379,    0, 5341,    6,  274],\n",
      "        [  24,    1,  120,   45,   34,   49,   18,   12, 5691,    6],\n",
      "        [   0,    0,    0,    5,    1,  141,    0,  283,    6, 5564]])\n"
     ]
    }
   ],
   "source": [
    "def get_all_preds(network,train_loader):\n",
    "    all_preds = torch.tensor([])\n",
    "    for batch in train_loader:\n",
    "        images,labels = batch\n",
    "        preds =network(images)\n",
    "\n",
    "        all_preds = torch.cat((all_preds,preds),dim=0)\n",
    "    return all_preds\n",
    "\n",
    "with torch.no_grad():\n",
    "    train_preds = get_all_preds(network,train_loader)\n",
    "\n",
    "\n",
    "train_preds = train_preds.argmax(dim = 1)\n",
    "print(\"train_preds——shape-----(6000,)?????\",train_preds.shape)\n",
    "# stacked = torch.cat((train_preds,train_set.targets),dim =1 )\n",
    "stacked = torch.stack((train_preds,train_set.targets),dim =1 )\n",
    "\n",
    "cmt = torch.zeros((10,10),dtype = torch.int64)\n",
    "for p in stacked:\n",
    "    j,k = p\n",
    "    cmt[k,j] += 1\n",
    "\n",
    "print(cmt)"
   ],
   "metadata": {
    "collapsed": false
   }
  },
  {
   "cell_type": "code",
   "execution_count": 8,
   "outputs": [
    {
     "name": "stdout",
     "output_type": "stream",
     "text": [
      "[[4879   67  252  528   36   10  139    0   88    1]\n",
      " [  30 5572   48  305   34    1    6    0    3    1]\n",
      " [  44   12 4666   77  850   11  213    0  127    0]\n",
      " [ 182  108  152 5293  163    6   68    0   28    0]\n",
      " [  10   20 1027  340 4344    3  190    0   65    1]\n",
      " [   1    0    1    4    0 5542    0  289   33  130]\n",
      " [1304   25 1998  418  759    2 1330    0  164    0]\n",
      " [   0    0    0    0    0  379    0 5341    6  274]\n",
      " [  24    1  120   45   34   49   18   12 5691    6]\n",
      " [   0    0    0    5    1  141    0  283    6 5564]]\n"
     ]
    }
   ],
   "source": [
    "from sklearn.metrics import confusion_matrix\n",
    "cm = confusion_matrix(train_set.targets,train_preds.reshape(-1,1))\n",
    "print(cm)"
   ],
   "metadata": {
    "collapsed": false
   }
  },
  {
   "cell_type": "code",
   "execution_count": 11,
   "outputs": [
    {
     "name": "stderr",
     "output_type": "stream",
     "text": [
      "C:\\Users\\Administrator\\miniconda3\\envs\\my_env\\lib\\site-packages\\sklearn\\utils\\deprecation.py:87: FutureWarning: Function plot_confusion_matrix is deprecated; Function `plot_confusion_matrix` is deprecated in 1.0 and will be removed in 1.2. Use one of the class methods: ConfusionMatrixDisplay.from_predictions or ConfusionMatrixDisplay.from_estimator.\n",
      "  warnings.warn(msg, category=FutureWarning)\n"
     ]
    },
    {
     "ename": "ValueError",
     "evalue": "plot_confusion_matrix only supports classifiers",
     "output_type": "error",
     "traceback": [
      "\u001B[1;31m---------------------------------------------------------------------------\u001B[0m",
      "\u001B[1;31mValueError\u001B[0m                                Traceback (most recent call last)",
      "Cell \u001B[1;32mIn [11], line 5\u001B[0m\n\u001B[0;32m      3\u001B[0m names \u001B[38;5;241m=\u001B[39m (\u001B[38;5;124m\"\u001B[39m\u001B[38;5;124m1\u001B[39m\u001B[38;5;124m\"\u001B[39m,\u001B[38;5;124m\"\u001B[39m\u001B[38;5;124m2\u001B[39m\u001B[38;5;124m\"\u001B[39m,\u001B[38;5;124m\"\u001B[39m\u001B[38;5;124m3\u001B[39m\u001B[38;5;124m\"\u001B[39m,\u001B[38;5;124m\"\u001B[39m\u001B[38;5;124m4\u001B[39m\u001B[38;5;124m\"\u001B[39m,\u001B[38;5;124m\"\u001B[39m\u001B[38;5;124m5\u001B[39m\u001B[38;5;124m\"\u001B[39m,\u001B[38;5;124m\"\u001B[39m\u001B[38;5;124m6\u001B[39m\u001B[38;5;124m\"\u001B[39m,\u001B[38;5;124m\"\u001B[39m\u001B[38;5;124m7\u001B[39m\u001B[38;5;124m\"\u001B[39m,\u001B[38;5;124m\"\u001B[39m\u001B[38;5;124m8\u001B[39m\u001B[38;5;124m\"\u001B[39m,\u001B[38;5;124m\"\u001B[39m\u001B[38;5;124m9\u001B[39m\u001B[38;5;124m\"\u001B[39m,\u001B[38;5;124m\"\u001B[39m\u001B[38;5;124m10\u001B[39m\u001B[38;5;124m\"\u001B[39m)\n\u001B[0;32m      4\u001B[0m plt\u001B[38;5;241m.\u001B[39mfigure(figsize\u001B[38;5;241m=\u001B[39m(\u001B[38;5;241m5\u001B[39m,\u001B[38;5;241m5\u001B[39m))\n\u001B[1;32m----> 5\u001B[0m \u001B[43mmetrics\u001B[49m\u001B[38;5;241;43m.\u001B[39;49m\u001B[43mplot_confusion_matrix\u001B[49m\u001B[43m(\u001B[49m\u001B[43mcm\u001B[49m\u001B[43m,\u001B[49m\u001B[43mnames\u001B[49m\u001B[43m,\u001B[49m\u001B[43mnames\u001B[49m\u001B[43m)\u001B[49m\n",
      "File \u001B[1;32m~\\miniconda3\\envs\\my_env\\lib\\site-packages\\sklearn\\utils\\deprecation.py:88\u001B[0m, in \u001B[0;36mdeprecated._decorate_fun.<locals>.wrapped\u001B[1;34m(*args, **kwargs)\u001B[0m\n\u001B[0;32m     85\u001B[0m \u001B[38;5;129m@functools\u001B[39m\u001B[38;5;241m.\u001B[39mwraps(fun)\n\u001B[0;32m     86\u001B[0m \u001B[38;5;28;01mdef\u001B[39;00m \u001B[38;5;21mwrapped\u001B[39m(\u001B[38;5;241m*\u001B[39margs, \u001B[38;5;241m*\u001B[39m\u001B[38;5;241m*\u001B[39mkwargs):\n\u001B[0;32m     87\u001B[0m     warnings\u001B[38;5;241m.\u001B[39mwarn(msg, category\u001B[38;5;241m=\u001B[39m\u001B[38;5;167;01mFutureWarning\u001B[39;00m)\n\u001B[1;32m---> 88\u001B[0m     \u001B[38;5;28;01mreturn\u001B[39;00m \u001B[43mfun\u001B[49m\u001B[43m(\u001B[49m\u001B[38;5;241;43m*\u001B[39;49m\u001B[43margs\u001B[49m\u001B[43m,\u001B[49m\u001B[43m \u001B[49m\u001B[38;5;241;43m*\u001B[39;49m\u001B[38;5;241;43m*\u001B[39;49m\u001B[43mkwargs\u001B[49m\u001B[43m)\u001B[49m\n",
      "File \u001B[1;32m~\\miniconda3\\envs\\my_env\\lib\\site-packages\\sklearn\\metrics\\_plot\\confusion_matrix.py:582\u001B[0m, in \u001B[0;36mplot_confusion_matrix\u001B[1;34m(estimator, X, y_true, labels, sample_weight, normalize, display_labels, include_values, xticks_rotation, values_format, cmap, ax, colorbar)\u001B[0m\n\u001B[0;32m    579\u001B[0m check_matplotlib_support(\u001B[38;5;124m\"\u001B[39m\u001B[38;5;124mplot_confusion_matrix\u001B[39m\u001B[38;5;124m\"\u001B[39m)\n\u001B[0;32m    581\u001B[0m \u001B[38;5;28;01mif\u001B[39;00m \u001B[38;5;129;01mnot\u001B[39;00m is_classifier(estimator):\n\u001B[1;32m--> 582\u001B[0m     \u001B[38;5;28;01mraise\u001B[39;00m \u001B[38;5;167;01mValueError\u001B[39;00m(\u001B[38;5;124m\"\u001B[39m\u001B[38;5;124mplot_confusion_matrix only supports classifiers\u001B[39m\u001B[38;5;124m\"\u001B[39m)\n\u001B[0;32m    584\u001B[0m y_pred \u001B[38;5;241m=\u001B[39m estimator\u001B[38;5;241m.\u001B[39mpredict(X)\n\u001B[0;32m    585\u001B[0m cm \u001B[38;5;241m=\u001B[39m confusion_matrix(\n\u001B[0;32m    586\u001B[0m     y_true, y_pred, sample_weight\u001B[38;5;241m=\u001B[39msample_weight, labels\u001B[38;5;241m=\u001B[39mlabels, normalize\u001B[38;5;241m=\u001B[39mnormalize\n\u001B[0;32m    587\u001B[0m )\n",
      "\u001B[1;31mValueError\u001B[0m: plot_confusion_matrix only supports classifiers"
     ]
    },
    {
     "data": {
      "text/plain": "<Figure size 500x500 with 0 Axes>"
     },
     "metadata": {},
     "output_type": "display_data"
    }
   ],
   "source": [
    "import matplotlib.pyplot as plt\n",
    "from sklearn import  metrics\n",
    "names = (\"1\",\"2\",\"3\",\"4\",\"5\",\"6\",\"7\",\"8\",\"9\",\"10\")\n",
    "plt.figure(figsize=(5,5))\n",
    "metrics.plot_confusion_matrix(cm,)"
   ],
   "metadata": {
    "collapsed": false
   }
  },
  {
   "cell_type": "code",
   "execution_count": null,
   "outputs": [],
   "source": [],
   "metadata": {
    "collapsed": false
   }
  }
 ],
 "metadata": {
  "kernelspec": {
   "display_name": "Python 3",
   "language": "python",
   "name": "python3"
  },
  "language_info": {
   "codemirror_mode": {
    "name": "ipython",
    "version": 2
   },
   "file_extension": ".py",
   "mimetype": "text/x-python",
   "name": "python",
   "nbconvert_exporter": "python",
   "pygments_lexer": "ipython2",
   "version": "2.7.6"
  }
 },
 "nbformat": 4,
 "nbformat_minor": 0
}
