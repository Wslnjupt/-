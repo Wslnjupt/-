{
 "cells": [
  {
   "cell_type": "code",
   "execution_count": 1,
   "metadata": {
    "collapsed": true
   },
   "outputs": [],
   "source": [
    "import torch\n",
    "import torchvision\n",
    "import torchvision.transforms as transforms\n",
    "\n",
    "import torch.nn as nn\n",
    "import torch.optim as optim\n",
    "import torch.nn.functional as F\n",
    "\n",
    "from torch.utils.tensorboard import SummaryWriter"
   ]
  },
  {
   "cell_type": "code",
   "execution_count": 2,
   "outputs": [
    {
     "data": {
      "text/plain": "<torch.autograd.grad_mode.set_grad_enabled at 0x15f005c3100>"
     },
     "execution_count": 2,
     "metadata": {},
     "output_type": "execute_result"
    }
   ],
   "source": [
    "train_set = torchvision.datasets.FashionMNIST(root = r\"C:\\Users\\Administrator\\Desktop\\机器学习，深度学习参考教材\\deeplizard--pytorch神经网络入门\\准备数据\\data_FashionMNIST\",\n",
    "                                              train= True,download = True,transform = transforms.Compose([transforms.ToTensor()]))\n",
    "\n",
    "\n",
    "\n",
    "\n",
    "\n",
    "torch.set_grad_enabled(True)"
   ],
   "metadata": {
    "collapsed": false
   }
  },
  {
   "cell_type": "code",
   "execution_count": 3,
   "outputs": [],
   "source": [
    "class Network(nn.Module):\n",
    "\n",
    "    def __init__(self):\n",
    "        super(Network,self).__init__()\n",
    "\n",
    "        self.conv1 = nn.Conv2d(in_channels = 1,out_channels=6,kernel_size = 5)\n",
    "        self.conv2 = nn.Conv2d(in_channels=6,out_channels = 12,kernel_size  =5)\n",
    "\n",
    "\n",
    "\n",
    "        self.fc1 = nn.Linear(in_features=12*4*4,out_features=120)\n",
    "        self.fc2 = nn.Linear(in_features=120,out_features=60)\n",
    "        self.fc3 = nn.Linear(in_features=60,out_features=10)\n",
    "\n",
    "\n",
    "    def forward(self,t):\n",
    "\n",
    "        t = self.conv1(t)\n",
    "        t = F.relu(t)\n",
    "        t  = F.max_pool2d(t,kernel_size= 2,stride = 2)\n",
    "\n",
    "\n",
    "        t = self.conv2(t)\n",
    "        t = F.relu(t)\n",
    "        t = F.max_pool2d(t,kernel_size = 2,stride = 2)\n",
    "\n",
    "        t = self.fc1(t.reshape(-1,12*4*4))\n",
    "        t = F.relu(t)\n",
    "\n",
    "        t = self.fc2(t)\n",
    "        t = F.relu(t)\n",
    "\n",
    "        t = self.fc3(t)\n",
    "\n",
    "        return t"
   ],
   "metadata": {
    "collapsed": false
   }
  },
  {
   "cell_type": "code",
   "execution_count": 4,
   "outputs": [
    {
     "name": "stdout",
     "output_type": "stream",
     "text": [
      "lr =  0.01 batch_size =  10 epoch=   0 train_loss =  tensor(52995.4609, grad_fn=<AddBackward0>) correct_% =  tensor(0.6629)\n",
      "lr =  0.01 batch_size =  10 epoch=   1 train_loss =  tensor(30918.0801, grad_fn=<AddBackward0>) correct_% =  tensor(0.8078)\n",
      "lr =  0.01 batch_size =  10 epoch=   2 train_loss =  tensor(26382.5586, grad_fn=<AddBackward0>) correct_% =  tensor(0.8391)\n",
      "lr =  0.01 batch_size =  10 epoch=   3 train_loss =  tensor(23659.4609, grad_fn=<AddBackward0>) correct_% =  tensor(0.8554)\n",
      "lr =  0.01 batch_size =  10 epoch=   4 train_loss =  tensor(21928.9590, grad_fn=<AddBackward0>) correct_% =  tensor(0.8662)\n",
      "lr =  0.01 batch_size =  10 epoch=   0 train_loss =  tensor(57404.7852, grad_fn=<AddBackward0>) correct_% =  tensor(0.6449)\n",
      "lr =  0.01 batch_size =  10 epoch=   1 train_loss =  tensor(32099.4434, grad_fn=<AddBackward0>) correct_% =  tensor(0.7999)\n",
      "lr =  0.01 batch_size =  10 epoch=   2 train_loss =  tensor(27659.4473, grad_fn=<AddBackward0>) correct_% =  tensor(0.8296)\n",
      "lr =  0.01 batch_size =  10 epoch=   3 train_loss =  tensor(25079.2559, grad_fn=<AddBackward0>) correct_% =  tensor(0.8464)\n",
      "lr =  0.01 batch_size =  10 epoch=   4 train_loss =  tensor(23223.9551, grad_fn=<AddBackward0>) correct_% =  tensor(0.8560)\n",
      "lr =  0.01 batch_size =  100 epoch=   0 train_loss =  tensor(137976.0781, grad_fn=<AddBackward0>) correct_% =  tensor(0.1256)\n",
      "lr =  0.01 batch_size =  100 epoch=   1 train_loss =  tensor(124070.1719, grad_fn=<AddBackward0>) correct_% =  tensor(0.2304)\n",
      "lr =  0.01 batch_size =  100 epoch=   2 train_loss =  tensor(58434.1953, grad_fn=<AddBackward0>) correct_% =  tensor(0.6264)\n",
      "lr =  0.01 batch_size =  100 epoch=   3 train_loss =  tensor(47704.9102, grad_fn=<AddBackward0>) correct_% =  tensor(0.6943)\n",
      "lr =  0.01 batch_size =  100 epoch=   4 train_loss =  tensor(42521.2031, grad_fn=<AddBackward0>) correct_% =  tensor(0.7265)\n",
      "lr =  0.01 batch_size =  100 epoch=   0 train_loss =  tensor(137777.1406, grad_fn=<AddBackward0>) correct_% =  tensor(0.1425)\n",
      "lr =  0.01 batch_size =  100 epoch=   1 train_loss =  tensor(94523.2578, grad_fn=<AddBackward0>) correct_% =  tensor(0.4563)\n",
      "lr =  0.01 batch_size =  100 epoch=   2 train_loss =  tensor(53167.6289, grad_fn=<AddBackward0>) correct_% =  tensor(0.6588)\n",
      "lr =  0.01 batch_size =  100 epoch=   3 train_loss =  tensor(46885.4766, grad_fn=<AddBackward0>) correct_% =  tensor(0.6982)\n",
      "lr =  0.01 batch_size =  100 epoch=   4 train_loss =  tensor(43231.0703, grad_fn=<AddBackward0>) correct_% =  tensor(0.7232)\n",
      "lr =  0.01 batch_size =  1000 epoch=   0 train_loss =  tensor(138184.8438, grad_fn=<AddBackward0>) correct_% =  tensor(0.0667)\n",
      "lr =  0.01 batch_size =  1000 epoch=   1 train_loss =  tensor(138008.5312, grad_fn=<AddBackward0>) correct_% =  tensor(0.0901)\n",
      "lr =  0.01 batch_size =  1000 epoch=   2 train_loss =  tensor(137791.6719, grad_fn=<AddBackward0>) correct_% =  tensor(0.0974)\n",
      "lr =  0.01 batch_size =  1000 epoch=   3 train_loss =  tensor(137481.5625, grad_fn=<AddBackward0>) correct_% =  tensor(0.1003)\n",
      "lr =  0.01 batch_size =  1000 epoch=   4 train_loss =  tensor(136999.4219, grad_fn=<AddBackward0>) correct_% =  tensor(0.1070)\n",
      "lr =  0.01 batch_size =  1000 epoch=   0 train_loss =  tensor(138264.6250, grad_fn=<AddBackward0>) correct_% =  tensor(0.1000)\n",
      "lr =  0.01 batch_size =  1000 epoch=   1 train_loss =  tensor(138177.7656, grad_fn=<AddBackward0>) correct_% =  tensor(0.1000)\n",
      "lr =  0.01 batch_size =  1000 epoch=   2 train_loss =  tensor(138103.2500, grad_fn=<AddBackward0>) correct_% =  tensor(0.1000)\n",
      "lr =  0.01 batch_size =  1000 epoch=   3 train_loss =  tensor(138030.9219, grad_fn=<AddBackward0>) correct_% =  tensor(0.1000)\n",
      "lr =  0.01 batch_size =  1000 epoch=   4 train_loss =  tensor(137953.6250, grad_fn=<AddBackward0>) correct_% =  tensor(0.1000)\n",
      "lr =  0.001 batch_size =  10 epoch=   0 train_loss =  tensor(138030.5781, grad_fn=<AddBackward0>) correct_% =  tensor(0.1000)\n",
      "lr =  0.001 batch_size =  10 epoch=   1 train_loss =  tensor(136643.1562, grad_fn=<AddBackward0>) correct_% =  tensor(0.2154)\n",
      "lr =  0.001 batch_size =  10 epoch=   2 train_loss =  tensor(76605.8984, grad_fn=<AddBackward0>) correct_% =  tensor(0.5531)\n",
      "lr =  0.001 batch_size =  10 epoch=   3 train_loss =  tensor(46434.7188, grad_fn=<AddBackward0>) correct_% =  tensor(0.7071)\n",
      "lr =  0.001 batch_size =  10 epoch=   4 train_loss =  tensor(41608.7695, grad_fn=<AddBackward0>) correct_% =  tensor(0.7357)\n",
      "lr =  0.001 batch_size =  10 epoch=   0 train_loss =  tensor(137991.5156, grad_fn=<AddBackward0>) correct_% =  tensor(0.1045)\n",
      "lr =  0.001 batch_size =  10 epoch=   1 train_loss =  tensor(135408.1250, grad_fn=<AddBackward0>) correct_% =  tensor(0.2967)\n",
      "lr =  0.001 batch_size =  10 epoch=   2 train_loss =  tensor(67878.2969, grad_fn=<AddBackward0>) correct_% =  tensor(0.5936)\n",
      "lr =  0.001 batch_size =  10 epoch=   3 train_loss =  tensor(47033.5430, grad_fn=<AddBackward0>) correct_% =  tensor(0.7007)\n",
      "lr =  0.001 batch_size =  10 epoch=   4 train_loss =  tensor(42331.4688, grad_fn=<AddBackward0>) correct_% =  tensor(0.7302)\n",
      "lr =  0.001 batch_size =  100 epoch=   0 train_loss =  tensor(138248.1250, grad_fn=<AddBackward0>) correct_% =  tensor(0.1000)\n",
      "lr =  0.001 batch_size =  100 epoch=   1 train_loss =  tensor(138160.1250, grad_fn=<AddBackward0>) correct_% =  tensor(0.1000)\n",
      "lr =  0.001 batch_size =  100 epoch=   2 train_loss =  tensor(138046.4375, grad_fn=<AddBackward0>) correct_% =  tensor(0.1000)\n",
      "lr =  0.001 batch_size =  100 epoch=   3 train_loss =  tensor(137904.5312, grad_fn=<AddBackward0>) correct_% =  tensor(0.1000)\n",
      "lr =  0.001 batch_size =  100 epoch=   4 train_loss =  tensor(137747.4219, grad_fn=<AddBackward0>) correct_% =  tensor(0.1000)\n",
      "lr =  0.001 batch_size =  100 epoch=   0 train_loss =  tensor(138310.7188, grad_fn=<AddBackward0>) correct_% =  tensor(0.1000)\n",
      "lr =  0.001 batch_size =  100 epoch=   1 train_loss =  tensor(138206.6875, grad_fn=<AddBackward0>) correct_% =  tensor(0.1000)\n",
      "lr =  0.001 batch_size =  100 epoch=   2 train_loss =  tensor(138107.0469, grad_fn=<AddBackward0>) correct_% =  tensor(0.1000)\n",
      "lr =  0.001 batch_size =  100 epoch=   3 train_loss =  tensor(138000.1562, grad_fn=<AddBackward0>) correct_% =  tensor(0.1000)\n",
      "lr =  0.001 batch_size =  100 epoch=   4 train_loss =  tensor(137875.4219, grad_fn=<AddBackward0>) correct_% =  tensor(0.1001)\n",
      "lr =  0.001 batch_size =  1000 epoch=   0 train_loss =  tensor(138253.1406, grad_fn=<AddBackward0>) correct_% =  tensor(0.1000)\n",
      "lr =  0.001 batch_size =  1000 epoch=   1 train_loss =  tensor(138245.4688, grad_fn=<AddBackward0>) correct_% =  tensor(0.1000)\n",
      "lr =  0.001 batch_size =  1000 epoch=   2 train_loss =  tensor(138237.6094, grad_fn=<AddBackward0>) correct_% =  tensor(0.1000)\n",
      "lr =  0.001 batch_size =  1000 epoch=   3 train_loss =  tensor(138229.5938, grad_fn=<AddBackward0>) correct_% =  tensor(0.1000)\n",
      "lr =  0.001 batch_size =  1000 epoch=   4 train_loss =  tensor(138221.4375, grad_fn=<AddBackward0>) correct_% =  tensor(0.1000)\n",
      "lr =  0.001 batch_size =  1000 epoch=   0 train_loss =  tensor(138289.1250, grad_fn=<AddBackward0>) correct_% =  tensor(0.1000)\n",
      "lr =  0.001 batch_size =  1000 epoch=   1 train_loss =  tensor(138282.2500, grad_fn=<AddBackward0>) correct_% =  tensor(0.1000)\n",
      "lr =  0.001 batch_size =  1000 epoch=   2 train_loss =  tensor(138275.3125, grad_fn=<AddBackward0>) correct_% =  tensor(0.1000)\n",
      "lr =  0.001 batch_size =  1000 epoch=   3 train_loss =  tensor(138268.4375, grad_fn=<AddBackward0>) correct_% =  tensor(0.1000)\n",
      "lr =  0.001 batch_size =  1000 epoch=   4 train_loss =  tensor(138261.5156, grad_fn=<AddBackward0>) correct_% =  tensor(0.1000)\n"
     ]
    }
   ],
   "source": [
    "# batch_size = 100\n",
    "# lr = 0.01\n",
    "\n",
    "def get_num_correct(preds,labels):\n",
    "    return  (preds.argmax(dim = 1) == labels).sum()\n",
    "\n",
    "from itertools import product\n",
    "\n",
    "parameters = dict(lr = [0.01,0.001],batch_size = [10,100,1000],shuffle = [True,False])\n",
    "parameters_values = [v for v in parameters.values()]\n",
    "\n",
    "\n",
    "# network = Network()\n",
    "\n",
    "# updater = optim.SGD(network.parameters(),lr = lr)\n",
    "# # loss = F.cross_entropy(preds,labels)\n",
    "# train_loader = torch.utils.data.DataLoader(train_set,batch_size = batch_size)\n",
    "\n",
    "\n",
    "\n",
    "\n",
    "# images,labels = next(iter(train_loader))\n",
    "# grid = torchvision.utils.make_grid(images)\n",
    "\n",
    "# comment = f\"batch_size = {batch_size},lr= {lr}\"\n",
    "# tb = SummaryWriter(\"logs\",comment=comment)\n",
    "# tb.add_image(\"images\",grid)\n",
    "# tb.add_graph(network,images)\n",
    "for lr,batch_size,shuffle in product(*parameters_values):\n",
    "    network = Network()\n",
    "    comment = f\"batch_size = {batch_size},lr= {lr},shuffle = {shuffle}\"\n",
    "    # comment = \"batch_size =100,lr= 0.01\"\n",
    "    tb = SummaryWriter(comment=comment)\n",
    "    updater = optim.SGD(network.parameters(),lr = lr)\n",
    "    # loss = F.cross_entropy(preds,labels)\n",
    "    train_loader = torch.utils.data.DataLoader(train_set,batch_size = batch_size)\n",
    "    for epoch  in range(5):\n",
    "        train_loss = 0\n",
    "        train_num_correct = 0\n",
    "        for images,labels in train_loader:\n",
    "\n",
    "            preds = network(images)\n",
    "            train_num_correct += get_num_correct(preds,labels)\n",
    "\n",
    "            loss = F.cross_entropy(preds,labels)\n",
    "            train_loss += loss*batch_size\n",
    "\n",
    "            updater.zero_grad()\n",
    "            loss.backward()\n",
    "\n",
    "\n",
    "            updater.step()\n",
    "        print(\"lr = \",lr,\"batch_size = \",batch_size,\n",
    "              \"epoch=  \",epoch,\"train_loss = \",train_loss,\"correct_% = \",train_num_correct/len(train_set))\n",
    "\n",
    "        tb.add_scalar(\"train_loss\",train_loss,epoch)\n",
    "        tb.add_scalar(\"train_correct_%\",train_num_correct/len(train_set),epoch)\n",
    "    tb.close()\n",
    "        # tb.add_histogram(\"conv1_bias\",network.conv1.bias,epoch)\n",
    "        # tb.add_histogram(\"conv1_weight\",network.conv1.weight,epoch)\n",
    "        # tb.add_histogram(\"conv1_weight_grad\",network.conv1.weight.grad,epoch)\n",
    "\n",
    "\n",
    "\n"
   ],
   "metadata": {
    "collapsed": false
   }
  },
  {
   "cell_type": "code",
   "execution_count": 4,
   "outputs": [],
   "source": [],
   "metadata": {
    "collapsed": false
   }
  }
 ],
 "metadata": {
  "kernelspec": {
   "display_name": "Python 3",
   "language": "python",
   "name": "python3"
  },
  "language_info": {
   "codemirror_mode": {
    "name": "ipython",
    "version": 2
   },
   "file_extension": ".py",
   "mimetype": "text/x-python",
   "name": "python",
   "nbconvert_exporter": "python",
   "pygments_lexer": "ipython2",
   "version": "2.7.6"
  }
 },
 "nbformat": 4,
 "nbformat_minor": 0
}
